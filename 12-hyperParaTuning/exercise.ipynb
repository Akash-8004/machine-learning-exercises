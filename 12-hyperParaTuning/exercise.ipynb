{
 "cells": [
  {
   "cell_type": "markdown",
   "id": "17002af5-85a5-4cb5-9689-ed0b4b3d9cae",
   "metadata": {},
   "source": [
    "## Exercise: Machine Learning Finding Optimal Model and Hyperparameters\n",
    "**For digits dataset in sklearn.dataset, please try following classifiers and find out the one that gives best performance. Also find the optimal parameters for that classifier.** \n",
    "\n",
    "1. from sklearn import svm\n",
    "2. from sklearn.ensemble import RandomForestClassifier\n",
    "3. from sklearn.linear_model import LogisticRegression\n",
    "4. from sklearn.naive_bayes import GaussianNB\n",
    "5. from sklearn.naive_bayes import MultinomialNB\n",
    "6. from sklearn.tree import DecisionTreeClassifier"
   ]
  },
  {
   "cell_type": "code",
   "execution_count": 4,
   "id": "ca7b01c4-d433-4f37-bbab-b8ddbe99cb3a",
   "metadata": {},
   "outputs": [],
   "source": [
    "from sklearn.datasets import load_digits\n",
    "import pandas as pd\n",
    "digit = load_digits()"
   ]
  },
  {
   "cell_type": "code",
   "execution_count": 6,
   "id": "c64207c1-3ce8-4dbe-bce8-1f09e119326e",
   "metadata": {},
   "outputs": [
    {
     "data": {
      "text/plain": [
       "['DESCR', 'data', 'feature_names', 'frame', 'images', 'target', 'target_names']"
      ]
     },
     "execution_count": 6,
     "metadata": {},
     "output_type": "execute_result"
    }
   ],
   "source": [
    "dir(digit)"
   ]
  },
  {
   "cell_type": "code",
   "execution_count": 36,
   "id": "cc420e14-93e5-4f40-8330-f82824dd9659",
   "metadata": {},
   "outputs": [],
   "source": [
    "X = digit.data\n",
    "y = digit.target\n",
    "X_train, X_test, y_train, y_test = train_test_split(X, y, test_size=0.2, random_state=42)"
   ]
  },
  {
   "cell_type": "code",
   "execution_count": null,
   "id": "f4081367-e9ef-40ec-a287-84d039ad8741",
   "metadata": {},
   "outputs": [],
   "source": [
    "len(X)"
   ]
  },
  {
   "cell_type": "code",
   "execution_count": null,
   "id": "7a522480-4459-4e23-a78f-f999085b124b",
   "metadata": {},
   "outputs": [],
   "source": [
    "from sklearn import svm\n",
    "from sklearn.ensemble import RandomForestClassifier\n",
    "from sklearn.linear_model import LogisticRegression\n",
    "from sklearn.naive_bayes import GaussianNB\n",
    "from sklearn.naive_bayes import MultinomialNB\n",
    "from sklearn.tree import DecisionTreeClassifier\n",
    "from sklearn.model_selection import GridSearchCV, train_test_split"
   ]
  },
  {
   "cell_type": "code",
   "execution_count": 40,
   "id": "da3cc0a5-2c06-468e-83ec-e817d01ad16d",
   "metadata": {},
   "outputs": [],
   "source": [
    "model_params = {\n",
    "    'RandomForestClassifier': {\n",
    "        'model': RandomForestClassifier(),\n",
    "        'para': {\n",
    "            'n_estimators': [50, 100, 200],         # number of trees\n",
    "            'max_depth': [None, 10, 20, 30],        # tree depth\n",
    "            'min_samples_split': [2, 5, 10],        # min samples to split\n",
    "            'min_samples_leaf': [1, 2, 4],          # min samples at leaf\n",
    "            'max_features': ['sqrt', 'log2'],       # features considered at split\n",
    "            'bootstrap': [True, False] \n",
    "        }\n",
    "    },\n",
    "    'LogisticRegression':{\n",
    "        'model': LogisticRegression(),\n",
    "        'para':{\n",
    "            'penalty': ['l1', 'l2'],\n",
    "            'C': [0.01, 0.1, 1, 10, 100],\n",
    "            'solver': ['liblinear', 'saga'],  # solvers that support L1\n",
    "            'max_iter': [100, 200, 500]\n",
    "        }\n",
    "    },\n",
    "    'GaussianNB': {\n",
    "        'model': GaussianNB(),\n",
    "        'para': {\n",
    "            'var_smoothing': [1e-9, 1e-8, 1e-7, 1e-6, 1e-5]\n",
    "        }\n",
    "    },\n",
    "    'MultinomialNB': {\n",
    "        'model': MultinomialNB(),\n",
    "        'para': {\n",
    "            'alpha': [0.01, 0.1, 0.5, 1.0, 5.0],\n",
    "            'fit_prior': [True, False]\n",
    "        }\n",
    "    },\n",
    "    'DecisionTreeClassifier':{\n",
    "        'model': DecisionTreeClassifier(),\n",
    "        'para': {\n",
    "            'criterion': ['gini', 'entropy'],\n",
    "            'max_depth': [None, 5, 10, 20, 30],\n",
    "            'min_samples_split': [2, 5, 10],\n",
    "            'min_samples_leaf': [1, 2, 4],\n",
    "            'max_features': [None, 'sqrt', 'log2']\n",
    "        }\n",
    "    }\n",
    "}"
   ]
  },
  {
   "cell_type": "code",
   "execution_count": 46,
   "id": "5090262b-8487-45b1-8c51-9c3c0dbb3fde",
   "metadata": {},
   "outputs": [],
   "source": [
    "scores = []\n",
    "\n",
    "for model_name, mp in model_params.items():\n",
    "    grid = GridSearchCV(mp['model'], mp['para'], cv=5, n_jobs=-1)\n",
    "    grid.fit(X_train, y_train)\n",
    "    scores.append({\n",
    "        'model': model_name,\n",
    "        'best_params': grid.best_params_,\n",
    "        'best_score': grid.best_score_,\n",
    "        'test_score': grid.score(X_test, y_test)\n",
    "    })\n",
    "\n",
    "results = pd.DataFrame(scores)"
   ]
  },
  {
   "cell_type": "code",
   "execution_count": 68,
   "id": "a5e7177d-edb0-401c-a7fd-01079ee62e75",
   "metadata": {},
   "outputs": [
    {
     "data": {
      "text/html": [
       "<div>\n",
       "<style scoped>\n",
       "    .dataframe tbody tr th:only-of-type {\n",
       "        vertical-align: middle;\n",
       "    }\n",
       "\n",
       "    .dataframe tbody tr th {\n",
       "        vertical-align: top;\n",
       "    }\n",
       "\n",
       "    .dataframe thead th {\n",
       "        text-align: right;\n",
       "    }\n",
       "</style>\n",
       "<table border=\"1\" class=\"dataframe\">\n",
       "  <thead>\n",
       "    <tr style=\"text-align: right;\">\n",
       "      <th></th>\n",
       "      <th>model</th>\n",
       "      <th>best_params</th>\n",
       "      <th>best_score</th>\n",
       "      <th>test_score</th>\n",
       "    </tr>\n",
       "  </thead>\n",
       "  <tbody>\n",
       "    <tr>\n",
       "      <th>0</th>\n",
       "      <td>RandomForestClassifier</td>\n",
       "      <td>{'bootstrap': False, 'max_depth': 30, 'max_fea...</td>\n",
       "      <td>0.979822</td>\n",
       "      <td>0.972222</td>\n",
       "    </tr>\n",
       "    <tr>\n",
       "      <th>1</th>\n",
       "      <td>LogisticRegression</td>\n",
       "      <td>{'C': 0.1, 'max_iter': 100, 'penalty': 'l1', '...</td>\n",
       "      <td>0.967286</td>\n",
       "      <td>0.961111</td>\n",
       "    </tr>\n",
       "    <tr>\n",
       "      <th>2</th>\n",
       "      <td>GaussianNB</td>\n",
       "      <td>{'var_smoothing': 1e-05}</td>\n",
       "      <td>0.881032</td>\n",
       "      <td>0.894444</td>\n",
       "    </tr>\n",
       "    <tr>\n",
       "      <th>3</th>\n",
       "      <td>MultinomialNB</td>\n",
       "      <td>{'alpha': 5.0, 'fit_prior': True}</td>\n",
       "      <td>0.897019</td>\n",
       "      <td>0.913889</td>\n",
       "    </tr>\n",
       "    <tr>\n",
       "      <th>4</th>\n",
       "      <td>DecisionTreeClassifier</td>\n",
       "      <td>{'criterion': 'entropy', 'max_depth': 30, 'max...</td>\n",
       "      <td>0.859432</td>\n",
       "      <td>0.900000</td>\n",
       "    </tr>\n",
       "  </tbody>\n",
       "</table>\n",
       "</div>"
      ],
      "text/plain": [
       "                    model                                        best_params  \\\n",
       "0  RandomForestClassifier  {'bootstrap': False, 'max_depth': 30, 'max_fea...   \n",
       "1      LogisticRegression  {'C': 0.1, 'max_iter': 100, 'penalty': 'l1', '...   \n",
       "2              GaussianNB                           {'var_smoothing': 1e-05}   \n",
       "3           MultinomialNB                  {'alpha': 5.0, 'fit_prior': True}   \n",
       "4  DecisionTreeClassifier  {'criterion': 'entropy', 'max_depth': 30, 'max...   \n",
       "\n",
       "   best_score  test_score  \n",
       "0    0.979822    0.972222  \n",
       "1    0.967286    0.961111  \n",
       "2    0.881032    0.894444  \n",
       "3    0.897019    0.913889  \n",
       "4    0.859432    0.900000  "
      ]
     },
     "execution_count": 68,
     "metadata": {},
     "output_type": "execute_result"
    }
   ],
   "source": [
    "results\n"
   ]
  },
  {
   "cell_type": "code",
   "execution_count": 80,
   "id": "bcb8afb9-4223-4f6c-aec4-9c6485445e7b",
   "metadata": {},
   "outputs": [
    {
     "data": {
      "text/plain": [
       "{'bootstrap': False,\n",
       " 'max_depth': 30,\n",
       " 'max_features': 'log2',\n",
       " 'min_samples_leaf': 2,\n",
       " 'min_samples_split': 2,\n",
       " 'n_estimators': 200}"
      ]
     },
     "execution_count": 80,
     "metadata": {},
     "output_type": "execute_result"
    }
   ],
   "source": [
    "results.best_params[0]"
   ]
  },
  {
   "cell_type": "markdown",
   "id": "9a6be38f-cf78-4300-ac13-907c34b1b655",
   "metadata": {},
   "source": [
    "Winner is **RandomForestClassifier with 97% accuracy** , with params \n",
    "{'bootstrap': False,\n",
    " 'max_depth': 30,\n",
    " 'max_features': 'log2',\n",
    " 'min_samples_leaf': 2,\n",
    " 'min_samples_split': 2,\n",
    " 'n_estimators': 200}"
   ]
  },
  {
   "cell_type": "code",
   "execution_count": null,
   "id": "fb136984-9e36-49aa-a0a1-20efd4ed1e1a",
   "metadata": {},
   "outputs": [],
   "source": []
  }
 ],
 "metadata": {
  "kernelspec": {
   "display_name": "Python [conda env:base] *",
   "language": "python",
   "name": "conda-base-py"
  },
  "language_info": {
   "codemirror_mode": {
    "name": "ipython",
    "version": 3
   },
   "file_extension": ".py",
   "mimetype": "text/x-python",
   "name": "python",
   "nbconvert_exporter": "python",
   "pygments_lexer": "ipython3",
   "version": "3.12.7"
  }
 },
 "nbformat": 4,
 "nbformat_minor": 5
}
